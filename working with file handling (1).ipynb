{
 "cells": [
  {
   "cell_type": "code",
   "execution_count": 1,
   "id": "07af3bf6-4c9c-495a-8005-3604c3d03813",
   "metadata": {},
   "outputs": [],
   "source": [
    "f=open(\"test.txt\",'w')"
   ]
  },
  {
   "cell_type": "code",
   "execution_count": 2,
   "id": "68b8591f-6fd8-4f92-9eec-7dc634b93785",
   "metadata": {},
   "outputs": [
    {
     "data": {
      "text/plain": [
       "'/home/jovyan/work'"
      ]
     },
     "execution_count": 2,
     "metadata": {},
     "output_type": "execute_result"
    }
   ],
   "source": [
    "pwd"
   ]
  },
  {
   "cell_type": "code",
   "execution_count": 3,
   "id": "8d9073ac-5d4b-4615-9c06-48d25972117c",
   "metadata": {},
   "outputs": [
    {
     "name": "stdout",
     "output_type": "stream",
     "text": [
      " data.csv    README.md           test4.bin   Untitled.ipynb\n",
      " data.json   sample-code.ipynb   test.txt   'working with file handling.ipynb'\n"
     ]
    }
   ],
   "source": [
    "ls"
   ]
  },
  {
   "cell_type": "code",
   "execution_count": 4,
   "id": "8e3aa30a-0f40-40db-a7c7-67840863a389",
   "metadata": {},
   "outputs": [
    {
     "data": {
      "text/plain": [
       "30"
      ]
     },
     "execution_count": 4,
     "metadata": {},
     "output_type": "execute_result"
    }
   ],
   "source": [
    "f.write(\"this is my first file to write\")"
   ]
  },
  {
   "cell_type": "code",
   "execution_count": 5,
   "id": "83d7e6e3-e621-4657-8e8a-4b98679f2278",
   "metadata": {},
   "outputs": [],
   "source": [
    "f.close()"
   ]
  },
  {
   "cell_type": "code",
   "execution_count": 6,
   "id": "79a7fac6-1964-42c0-90f1-73d424a8a156",
   "metadata": {},
   "outputs": [],
   "source": [
    "f=open(\"test.txt\",'w')"
   ]
  },
  {
   "cell_type": "code",
   "execution_count": 7,
   "id": "542f2096-3841-4a94-aae1-48324b0988fc",
   "metadata": {},
   "outputs": [
    {
     "data": {
      "text/plain": [
       "15"
      ]
     },
     "execution_count": 7,
     "metadata": {},
     "output_type": "execute_result"
    }
   ],
   "source": [
    "f.write(\"this is my file\")"
   ]
  },
  {
   "cell_type": "code",
   "execution_count": 8,
   "id": "5967ef61-1c36-467f-b3b7-3382524e9147",
   "metadata": {},
   "outputs": [],
   "source": [
    "f.close()"
   ]
  },
  {
   "cell_type": "code",
   "execution_count": 9,
   "id": "6383743d-5482-42a1-9ec4-4d712c1245c3",
   "metadata": {},
   "outputs": [],
   "source": [
    "f=open(\"test.txt\",'a')"
   ]
  },
  {
   "cell_type": "code",
   "execution_count": 10,
   "id": "200d081b-0045-408a-9e05-accec38f3a85",
   "metadata": {},
   "outputs": [
    {
     "data": {
      "text/plain": [
       "42"
      ]
     },
     "execution_count": 10,
     "metadata": {},
     "output_type": "execute_result"
    }
   ],
   "source": [
    "f.write(\" hello, my name is mithilesh kumar jaiswal\")"
   ]
  },
  {
   "cell_type": "code",
   "execution_count": 11,
   "id": "dcf87ae5-1ef0-48ef-b247-cbee00810f2e",
   "metadata": {},
   "outputs": [],
   "source": [
    "f.close()"
   ]
  },
  {
   "cell_type": "code",
   "execution_count": 12,
   "id": "4faf95bf-ee6c-4de2-93f0-ee7062cf9696",
   "metadata": {},
   "outputs": [],
   "source": [
    "data=open(\"test.txt\",'r')"
   ]
  },
  {
   "cell_type": "code",
   "execution_count": 13,
   "id": "816f7354-46c7-4451-8119-bbb43680c526",
   "metadata": {},
   "outputs": [
    {
     "data": {
      "text/plain": [
       "'this is my file hello, my name is mithilesh kumar jaiswal'"
      ]
     },
     "execution_count": 13,
     "metadata": {},
     "output_type": "execute_result"
    }
   ],
   "source": [
    "data.read()"
   ]
  },
  {
   "cell_type": "code",
   "execution_count": 14,
   "id": "92629d46-61c5-4025-b942-649598926a6a",
   "metadata": {},
   "outputs": [
    {
     "data": {
      "text/plain": [
       "''"
      ]
     },
     "execution_count": 14,
     "metadata": {},
     "output_type": "execute_result"
    }
   ],
   "source": [
    "data.readline()"
   ]
  },
  {
   "cell_type": "code",
   "execution_count": 15,
   "id": "5065a2d1-b3a7-45fb-a4c0-69b1e3a12cdf",
   "metadata": {},
   "outputs": [
    {
     "data": {
      "text/plain": [
       "0"
      ]
     },
     "execution_count": 15,
     "metadata": {},
     "output_type": "execute_result"
    }
   ],
   "source": [
    "data.seek(0)"
   ]
  },
  {
   "cell_type": "code",
   "execution_count": 16,
   "id": "d6317013-02c1-48a2-91eb-9172c17ccca6",
   "metadata": {},
   "outputs": [
    {
     "data": {
      "text/plain": [
       "'this is my file hello, my name is mithilesh kumar jaiswal'"
      ]
     },
     "execution_count": 16,
     "metadata": {},
     "output_type": "execute_result"
    }
   ],
   "source": [
    "data.readline()"
   ]
  },
  {
   "cell_type": "code",
   "execution_count": 17,
   "id": "54c74b1e-b72b-42d9-b71c-5e9ed3c2222e",
   "metadata": {},
   "outputs": [
    {
     "data": {
      "text/plain": [
       "10"
      ]
     },
     "execution_count": 17,
     "metadata": {},
     "output_type": "execute_result"
    }
   ],
   "source": [
    "data.seek(10)"
   ]
  },
  {
   "cell_type": "code",
   "execution_count": 18,
   "id": "0c11d416-e6c1-4d95-ae4f-13b0d46ca919",
   "metadata": {},
   "outputs": [
    {
     "data": {
      "text/plain": [
       "' file hello, my name is mithilesh kumar jaiswal'"
      ]
     },
     "execution_count": 18,
     "metadata": {},
     "output_type": "execute_result"
    }
   ],
   "source": [
    "data.read()"
   ]
  },
  {
   "cell_type": "code",
   "execution_count": 19,
   "id": "2a1cd3f1-6fc7-45e0-a626-a874d1dec19d",
   "metadata": {},
   "outputs": [],
   "source": [
    "data1=open(\"test.txt\",'r')"
   ]
  },
  {
   "cell_type": "code",
   "execution_count": 20,
   "id": "6a599c8f-3cd9-4192-bc00-eab9d52ef426",
   "metadata": {},
   "outputs": [
    {
     "name": "stdout",
     "output_type": "stream",
     "text": [
      "this is my file hello, my name is mithilesh kumar jaiswal\n"
     ]
    }
   ],
   "source": [
    "for i in data1:\n",
    "    print(i)"
   ]
  },
  {
   "cell_type": "code",
   "execution_count": 21,
   "id": "9a83a3b1-4309-4454-84fe-d465fc1a0627",
   "metadata": {},
   "outputs": [
    {
     "data": {
      "text/plain": [
       "57"
      ]
     },
     "execution_count": 21,
     "metadata": {},
     "output_type": "execute_result"
    }
   ],
   "source": [
    "import os\n",
    "os.path.getsize(\"test.txt\")"
   ]
  },
  {
   "cell_type": "code",
   "execution_count": 22,
   "id": "b89a4b9f-c927-4207-b280-0208bcd7d02b",
   "metadata": {},
   "outputs": [],
   "source": [
    "os.remove(\"test.txt\")"
   ]
  },
  {
   "cell_type": "code",
   "execution_count": 23,
   "id": "c1c3298c-f662-4cab-a171-5650193cb25c",
   "metadata": {},
   "outputs": [],
   "source": [
    "f=open(\"test.txt\",'w')"
   ]
  },
  {
   "cell_type": "code",
   "execution_count": 24,
   "id": "50d3018f-78ad-41ae-9cd2-ed1884a6de90",
   "metadata": {},
   "outputs": [
    {
     "data": {
      "text/plain": [
       "42"
      ]
     },
     "execution_count": 24,
     "metadata": {},
     "output_type": "execute_result"
    }
   ],
   "source": [
    "f.write(\" hello, my name is mithilesh kumar jaiswal\")"
   ]
  },
  {
   "cell_type": "code",
   "execution_count": 25,
   "id": "1dcff737-b4c4-408e-813a-3c50e20d0028",
   "metadata": {},
   "outputs": [],
   "source": [
    "f.close()"
   ]
  },
  {
   "cell_type": "code",
   "execution_count": 26,
   "id": "17598858-b972-4f81-b7b8-ac4168efdf81",
   "metadata": {},
   "outputs": [],
   "source": [
    "os.rename(\"test.txt\",\"new.txt\")"
   ]
  },
  {
   "cell_type": "code",
   "execution_count": 27,
   "id": "0c23e25c-5098-4303-a44d-a729ba08c38c",
   "metadata": {},
   "outputs": [],
   "source": [
    "import shutil"
   ]
  },
  {
   "cell_type": "code",
   "execution_count": 28,
   "id": "a175a311-3bed-40cd-b019-c3312aa469e1",
   "metadata": {},
   "outputs": [
    {
     "data": {
      "text/plain": [
       "'copy_new.txt'"
      ]
     },
     "execution_count": 28,
     "metadata": {},
     "output_type": "execute_result"
    }
   ],
   "source": [
    "shutil.copy(\"new.txt\",\"copy_new.txt\")"
   ]
  },
  {
   "cell_type": "code",
   "execution_count": 29,
   "id": "8fbcdfe6-77ca-4f90-b94d-3b11b84c6b57",
   "metadata": {},
   "outputs": [
    {
     "name": "stdout",
     "output_type": "stream",
     "text": [
      " hello, my name is mithilesh kumar jaiswal\n"
     ]
    }
   ],
   "source": [
    "with open(\"new.txt\",'r') as f:\n",
    "    print(f.read())"
   ]
  },
  {
   "cell_type": "code",
   "execution_count": null,
   "id": "33ec25f2-008d-4b11-a083-da5d3503b51c",
   "metadata": {},
   "outputs": [],
   "source": []
  },
  {
   "cell_type": "code",
   "execution_count": null,
   "id": "7895a8c1-5d73-40fd-a14c-be281823923c",
   "metadata": {},
   "outputs": [],
   "source": []
  }
 ],
 "metadata": {
  "kernelspec": {
   "display_name": "Python 3 (ipykernel)",
   "language": "python",
   "name": "python3"
  },
  "language_info": {
   "codemirror_mode": {
    "name": "ipython",
    "version": 3
   },
   "file_extension": ".py",
   "mimetype": "text/x-python",
   "name": "python",
   "nbconvert_exporter": "python",
   "pygments_lexer": "ipython3",
   "version": "3.10.8"
  },
  "toc-showmarkdowntxt": false
 },
 "nbformat": 4,
 "nbformat_minor": 5
}
