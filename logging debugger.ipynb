{
 "cells": [
  {
   "cell_type": "code",
   "execution_count": 1,
   "id": "425812ae-f629-4f6d-89f0-b449f6acbcf8",
   "metadata": {},
   "outputs": [
    {
     "name": "stdout",
     "output_type": "stream",
     "text": [
      "this is my first comment\n"
     ]
    }
   ],
   "source": [
    "print(\"this is my first comment\")"
   ]
  },
  {
   "cell_type": "code",
   "execution_count": 2,
   "id": "b67563d1-e5b1-44ed-aa36-e79f880da62d",
   "metadata": {},
   "outputs": [],
   "source": [
    "import logging"
   ]
  },
  {
   "cell_type": "code",
   "execution_count": 3,
   "id": "dcb5d473-8191-40fc-99e5-05d2e891ea45",
   "metadata": {},
   "outputs": [],
   "source": [
    "logging.basicConfig(filename=\"test.log\",level=logging.INFO)"
   ]
  },
  {
   "cell_type": "code",
   "execution_count": 4,
   "id": "bce28a7f-2dd1-4f0e-94c1-d26cb24e7bad",
   "metadata": {},
   "outputs": [],
   "source": [
    "logging.info(\"log this line of excuation\")"
   ]
  },
  {
   "cell_type": "code",
   "execution_count": 5,
   "id": "c7b2a87f-9a0e-4344-82c6-9b702038eb20",
   "metadata": {},
   "outputs": [],
   "source": [
    "logging.info(\"this is my first comment\")"
   ]
  },
  {
   "cell_type": "code",
   "execution_count": 6,
   "id": "361ab21a-45f4-4ed0-83e1-f7a85226225f",
   "metadata": {},
   "outputs": [],
   "source": [
    "logging.debug(\"this is my first comment\")"
   ]
  },
  {
   "cell_type": "code",
   "execution_count": 7,
   "id": "23f0d6b1-aa78-4060-b82c-3a63bd0a1750",
   "metadata": {},
   "outputs": [],
   "source": [
    "logging.warning(\"this is my warning\")"
   ]
  },
  {
   "cell_type": "code",
   "execution_count": 8,
   "id": "f4bf8d9b-e5be-4239-aa2a-449139caece7",
   "metadata": {},
   "outputs": [],
   "source": [
    "logging.error(\"this is my error\")"
   ]
  },
  {
   "cell_type": "code",
   "execution_count": 9,
   "id": "0b78cfab-abbe-47cb-8f67-78d735fab08b",
   "metadata": {},
   "outputs": [],
   "source": [
    "logging.critical(\"this is my critical msg\")"
   ]
  },
  {
   "cell_type": "markdown",
   "id": "3afee26a-e6f0-42ca-938c-c6650cf1958b",
   "metadata": {},
   "source": [
    "1. NONSET\n",
    "2. DEBUG\n",
    "3. INFO\n",
    "4. WARNING\n",
    "5. ERROR\n",
    "6. CRITICAL"
   ]
  },
  {
   "cell_type": "code",
   "execution_count": 10,
   "id": "74cc42ec-c42e-49ae-a241-df636a0e74b5",
   "metadata": {},
   "outputs": [],
   "source": [
    "logging.shutdown()"
   ]
  },
  {
   "cell_type": "code",
   "execution_count": 1,
   "id": "45c28f3b-adb6-4b65-98e1-5af718043d13",
   "metadata": {},
   "outputs": [],
   "source": [
    "import logging"
   ]
  },
  {
   "cell_type": "code",
   "execution_count": 2,
   "id": "0dbca505-7383-46a8-9fe0-1c25715694ab",
   "metadata": {},
   "outputs": [],
   "source": [
    "logging.basicConfig(filename=\"test2.log\",level= logging.DEBUG,format='%(asctime)s %(message)s')"
   ]
  },
  {
   "cell_type": "code",
   "execution_count": 3,
   "id": "a3f0d9c2-8b83-442c-af02-f360b156020a",
   "metadata": {},
   "outputs": [],
   "source": [
    "logging.info(\"this is my info looging\")\n",
    "logging.error(\"this is my error msg\")\n",
    "logging.critical(\"this is my crictical msg\")\n"
   ]
  },
  {
   "cell_type": "code",
   "execution_count": 4,
   "id": "238d1f35-4b55-4e01-afc2-6c7bfb5331d6",
   "metadata": {},
   "outputs": [],
   "source": [
    "logging.shutdown()"
   ]
  },
  {
   "cell_type": "code",
   "execution_count": 1,
   "id": "81323489-5b08-4c6f-800e-a05b4fced744",
   "metadata": {},
   "outputs": [],
   "source": [
    "import logging"
   ]
  },
  {
   "cell_type": "code",
   "execution_count": 2,
   "id": "dbee9729-ddf2-4fcb-ab56-3f50b40c844d",
   "metadata": {},
   "outputs": [],
   "source": [
    "logging.basicConfig(filename=\"test3.log\",level= logging.DEBUG,format='%(asctime)s %(name)s %(message)s')"
   ]
  },
  {
   "cell_type": "code",
   "execution_count": 3,
   "id": "e7a3e1fb-2cc4-4258-b76e-eefe36e47b5d",
   "metadata": {},
   "outputs": [],
   "source": [
    "logging.info(\"this is my info looging\")\n",
    "logging.error(\"this is my error msg\")\n",
    "logging.critical(\"this is my crictical msg\")"
   ]
  },
  {
   "cell_type": "code",
   "execution_count": 4,
   "id": "b31079d7-aab2-4730-b198-22c7c026564f",
   "metadata": {},
   "outputs": [],
   "source": [
    "l=[1,2,3,4,5,[13,4,242],\"mithi\",\"kumar\"]"
   ]
  },
  {
   "cell_type": "code",
   "execution_count": 17,
   "id": "36118d52-3516-4543-9fdb-01f1de397e06",
   "metadata": {},
   "outputs": [],
   "source": [
    "l1_int=[]\n",
    "l2_str=[]\n",
    "for i in l:\n",
    "    logging.info(\"we are iterating through our list and our local var is {}\".format(l))\n",
    "    if type(i)==list:\n",
    "        logging.info(\"i am inside if statement and ui am trying to check list type\"+str(i))\n",
    "        for j in i:\n",
    "            logging.info(\"i am in another for loop list inside list element\"+str(j))\n",
    "            if type(j)==int:\n",
    "                logging.info(\"i am inside if statement\")\n",
    "                l1_int.append(j)\n",
    "    elif type(i)==int:\n",
    "        l1_int.append(i)\n",
    "    else:\n",
    "        if type(i)==str:\n",
    "            l2_str.append(i)\n",
    "\n",
    "logging.info(\"this is my final result for int is {l1} and str is {l2}\".format(l1=l1_int,l2=l2_str))"
   ]
  },
  {
   "cell_type": "code",
   "execution_count": 18,
   "id": "3f44eb46-717f-4b90-904f-ee40dfa4d690",
   "metadata": {},
   "outputs": [
    {
     "data": {
      "text/plain": [
       "[1, 2, 3, 4, 5, 13, 4, 242]"
      ]
     },
     "execution_count": 18,
     "metadata": {},
     "output_type": "execute_result"
    }
   ],
   "source": [
    "l1_int"
   ]
  },
  {
   "cell_type": "code",
   "execution_count": 19,
   "id": "dfefcff1-0d80-4208-bb61-662f3d54b70a",
   "metadata": {},
   "outputs": [
    {
     "data": {
      "text/plain": [
       "['mithi', 'kumar']"
      ]
     },
     "execution_count": 19,
     "metadata": {},
     "output_type": "execute_result"
    }
   ],
   "source": [
    "l2_str"
   ]
  },
  {
   "cell_type": "code",
   "execution_count": null,
   "id": "24531b61-8201-4e6a-9611-fb59c0702c52",
   "metadata": {},
   "outputs": [],
   "source": []
  }
 ],
 "metadata": {
  "kernelspec": {
   "display_name": "Python 3 (ipykernel)",
   "language": "python",
   "name": "python3"
  },
  "language_info": {
   "codemirror_mode": {
    "name": "ipython",
    "version": 3
   },
   "file_extension": ".py",
   "mimetype": "text/x-python",
   "name": "python",
   "nbconvert_exporter": "python",
   "pygments_lexer": "ipython3",
   "version": "3.10.8"
  }
 },
 "nbformat": 4,
 "nbformat_minor": 5
}
