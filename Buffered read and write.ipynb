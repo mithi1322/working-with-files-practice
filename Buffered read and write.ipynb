{
 "cells": [
  {
   "cell_type": "code",
   "execution_count": 1,
   "id": "2d198891-2714-47ae-aad4-2d2c785d005c",
   "metadata": {},
   "outputs": [],
   "source": [
    "import io"
   ]
  },
  {
   "cell_type": "code",
   "execution_count": 3,
   "id": "b121769b-068b-4112-8ec5-1d97e5fb1074",
   "metadata": {},
   "outputs": [],
   "source": [
    "with open(\"test1.txt\",'wb')as f:\n",
    "    file=io.BufferedWriter(f)\n",
    "    file.write(b\"this is my first comment\\n\")\n",
    "    file.write(b\"this is my second comment\\n\")\n",
    "    file.flush()"
   ]
  },
  {
   "cell_type": "code",
   "execution_count": 4,
   "id": "53b0a35a-fee7-450d-b743-02d776069e4f",
   "metadata": {},
   "outputs": [
    {
     "name": "stdout",
     "output_type": "stream",
     "text": [
      "b'this is my first comment\\nthis is my second comment\\n'\n"
     ]
    }
   ],
   "source": [
    "with open(\"test1.txt\",'rb') as f:\n",
    "    file=io.BufferedReader(f)\n",
    "    data=file.read()\n",
    "    print(data)"
   ]
  },
  {
   "cell_type": "code",
   "execution_count": null,
   "id": "4ba0242d-62f3-47e8-bad3-40c386b7bbd1",
   "metadata": {},
   "outputs": [],
   "source": []
  }
 ],
 "metadata": {
  "kernelspec": {
   "display_name": "Python 3 (ipykernel)",
   "language": "python",
   "name": "python3"
  },
  "language_info": {
   "codemirror_mode": {
    "name": "ipython",
    "version": 3
   },
   "file_extension": ".py",
   "mimetype": "text/x-python",
   "name": "python",
   "nbconvert_exporter": "python",
   "pygments_lexer": "ipython3",
   "version": "3.10.8"
  }
 },
 "nbformat": 4,
 "nbformat_minor": 5
}
