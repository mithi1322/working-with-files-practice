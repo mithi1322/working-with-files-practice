{
 "cells": [
  {
   "cell_type": "code",
   "execution_count": 13,
   "id": "b57b480d-b146-413e-9053-20ce3e71cad5",
   "metadata": {},
   "outputs": [],
   "source": [
    "data={\"name\":\"mithilesh\",\n",
    "      \"mail_id\":\"mithi@gmail.com\",\n",
    "      \"phone no\":89798657,\n",
    "      \"subject\":[\"data science \",\"big data\",\"data analyst\"]\n",
    "     }"
   ]
  },
  {
   "cell_type": "code",
   "execution_count": 14,
   "id": "67fd1a99-623c-472d-90e8-fc7bb99c7516",
   "metadata": {},
   "outputs": [],
   "source": [
    "import json"
   ]
  },
  {
   "cell_type": "code",
   "execution_count": 15,
   "id": "c4e45c4e-b5af-4087-958d-39837984b7d2",
   "metadata": {},
   "outputs": [],
   "source": [
    "with open(\"data.json\",'w') as f:\n",
    "    json.dump(data,f)"
   ]
  },
  {
   "cell_type": "code",
   "execution_count": 16,
   "id": "afde81af-60a2-4eb5-867a-0458d0778b04",
   "metadata": {},
   "outputs": [],
   "source": [
    "with open(\"data.json\",'r')as f:\n",
    "    data1=json.load(f)"
   ]
  },
  {
   "cell_type": "code",
   "execution_count": 17,
   "id": "b24a54ee-7746-4bad-822a-3162cc0b1adf",
   "metadata": {},
   "outputs": [
    {
     "data": {
      "text/plain": [
       "{'name': 'mithilesh',\n",
       " 'mail_id': 'mithi@gmail.com',\n",
       " 'phone no': 89798657,\n",
       " 'subject': ['data science ', 'big data', 'data analyst']}"
      ]
     },
     "execution_count": 17,
     "metadata": {},
     "output_type": "execute_result"
    }
   ],
   "source": [
    "data1"
   ]
  },
  {
   "cell_type": "code",
   "execution_count": 18,
   "id": "033807b8-aa4a-495e-8316-725da306e036",
   "metadata": {},
   "outputs": [
    {
     "data": {
      "text/plain": [
       "'big data'"
      ]
     },
     "execution_count": 18,
     "metadata": {},
     "output_type": "execute_result"
    }
   ],
   "source": [
    "data1['subject'][1]"
   ]
  },
  {
   "cell_type": "code",
   "execution_count": 19,
   "id": "5e8351ca-ace9-4581-9df2-3562a0c0ba7e",
   "metadata": {},
   "outputs": [],
   "source": [
    "import csv"
   ]
  },
  {
   "cell_type": "code",
   "execution_count": 20,
   "id": "733b6d70-4fb2-41f6-ad2c-7e494d2e3c48",
   "metadata": {},
   "outputs": [],
   "source": [
    "data=[[\"name\",\"email id\",\"phone no\"],\n",
    "      [\"mithilesh\",\"mithi@gmail.com\",732979],\n",
    "      [\"rohit\",\"rohit@gmail.com\",87382074]\n",
    "     ]\n",
    "      "
   ]
  },
  {
   "cell_type": "code",
   "execution_count": 21,
   "id": "42a96e28-17da-45ed-a726-7e7c24071c20",
   "metadata": {},
   "outputs": [],
   "source": [
    "with open(\"data.csv\",'w')as f:\n",
    "    writer=csv.writer(f)\n",
    "    for i in data:\n",
    "        writer.writerow(i)"
   ]
  },
  {
   "cell_type": "code",
   "execution_count": 22,
   "id": "b648cfd5-9a31-4d14-82e9-7286fb3ef6ed",
   "metadata": {},
   "outputs": [
    {
     "name": "stdout",
     "output_type": "stream",
     "text": [
      "['name', 'email id', 'phone no']\n",
      "['mithilesh', 'mithi@gmail.com', '732979']\n",
      "['rohit', 'rohit@gmail.com', '87382074']\n"
     ]
    }
   ],
   "source": [
    "with open(\"data.csv\",'r') as f:\n",
    "    read_data=csv.reader(f)\n",
    "    for i in read_data:\n",
    "        print(i)"
   ]
  },
  {
   "cell_type": "code",
   "execution_count": 23,
   "id": "c26258c5-0b4a-47b5-8826-57a23be07c1b",
   "metadata": {},
   "outputs": [],
   "source": [
    "with open(\"test4.bin\",'wb') as f:\n",
    "    f.write(b\"\\x01\\x02\\x03\\x89878\")"
   ]
  },
  {
   "cell_type": "code",
   "execution_count": 24,
   "id": "1518294e-f7d9-469e-8b43-398e5f7ac821",
   "metadata": {},
   "outputs": [
    {
     "name": "stdout",
     "output_type": "stream",
     "text": [
      "b'\\x01\\x02\\x03\\x89878'\n"
     ]
    }
   ],
   "source": [
    "with open(\"test4.bin\",'rb') as f:\n",
    "    print(f.read())"
   ]
  },
  {
   "cell_type": "code",
   "execution_count": null,
   "id": "e64eb63a-b1cf-49eb-9ff1-e37d0f05bcb0",
   "metadata": {},
   "outputs": [],
   "source": []
  }
 ],
 "metadata": {
  "kernelspec": {
   "display_name": "Python 3 (ipykernel)",
   "language": "python",
   "name": "python3"
  },
  "language_info": {
   "codemirror_mode": {
    "name": "ipython",
    "version": 3
   },
   "file_extension": ".py",
   "mimetype": "text/x-python",
   "name": "python",
   "nbconvert_exporter": "python",
   "pygments_lexer": "ipython3",
   "version": "3.10.8"
  }
 },
 "nbformat": 4,
 "nbformat_minor": 5
}
